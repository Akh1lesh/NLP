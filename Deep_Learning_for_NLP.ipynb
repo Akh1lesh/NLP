{
  "cells": [
    {
      "cell_type": "code",
      "execution_count": 1,
      "metadata": {
        "id": "6O5aBEBswEfO"
      },
      "outputs": [],
      "source": [
        "import numpy as np\n",
        "from sklearn.datasets import load_iris"
      ]
    },
    {
      "cell_type": "code",
      "execution_count": 2,
      "metadata": {
        "id": "o_SIXedtwEfQ"
      },
      "outputs": [],
      "source": [
        "iris = load_iris()"
      ]
    },
    {
      "cell_type": "code",
      "execution_count": 3,
      "metadata": {
        "id": "pTkmksxbwEfR"
      },
      "outputs": [],
      "source": [
        "# iris"
      ]
    },
    {
      "cell_type": "code",
      "execution_count": 4,
      "metadata": {
        "id": "ymzae8P6wEfR"
      },
      "outputs": [],
      "source": [
        "x = iris.data"
      ]
    },
    {
      "cell_type": "code",
      "execution_count": 5,
      "metadata": {
        "id": "IoHtALQawEfR"
      },
      "outputs": [],
      "source": [
        "y = iris.target"
      ]
    },
    {
      "cell_type": "code",
      "execution_count": 8,
      "metadata": {
        "id": "NSOEkmuewEfS"
      },
      "outputs": [],
      "source": [
        "from keras.utils import to_categorical"
      ]
    },
    {
      "cell_type": "code",
      "execution_count": 9,
      "metadata": {
        "id": "LAIpeR4BwEfV"
      },
      "outputs": [],
      "source": [
        "y = to_categorical(y)"
      ]
    },
    {
      "cell_type": "code",
      "execution_count": 10,
      "metadata": {
        "colab": {
          "base_uri": "https://localhost:8080/"
        },
        "id": "xIQ3dg2vwEfW",
        "outputId": "38cc6e01-48b3-469f-f460-98e8407171a6"
      },
      "outputs": [
        {
          "output_type": "execute_result",
          "data": {
            "text/plain": [
              "(150, 3)"
            ]
          },
          "metadata": {},
          "execution_count": 10
        }
      ],
      "source": [
        "y.shape"
      ]
    },
    {
      "cell_type": "code",
      "execution_count": 11,
      "metadata": {
        "id": "P8_8SyrQwEfY"
      },
      "outputs": [],
      "source": [
        "# y"
      ]
    },
    {
      "cell_type": "code",
      "execution_count": 12,
      "metadata": {
        "id": "qNlGte_0wEfZ"
      },
      "outputs": [],
      "source": [
        "from sklearn.model_selection import train_test_split"
      ]
    },
    {
      "cell_type": "code",
      "execution_count": 13,
      "metadata": {
        "id": "FQSBroQpwEfZ"
      },
      "outputs": [],
      "source": [
        "X_train,X_test,y_train,y_test = train_test_split(x,y,test_size = 0.33, random_state = 42)"
      ]
    },
    {
      "cell_type": "code",
      "execution_count": 14,
      "metadata": {
        "id": "uPGVV1fGwEfa"
      },
      "outputs": [],
      "source": [
        "from sklearn.preprocessing import MinMaxScaler"
      ]
    },
    {
      "cell_type": "code",
      "execution_count": 15,
      "metadata": {
        "id": "8C7WL5NUwEfa"
      },
      "outputs": [],
      "source": [
        "scaler_object = MinMaxScaler()"
      ]
    },
    {
      "cell_type": "code",
      "execution_count": 16,
      "metadata": {
        "colab": {
          "base_uri": "https://localhost:8080/",
          "height": 74
        },
        "id": "MGuzqWsZwEfb",
        "outputId": "cf67f4de-0c43-49f5-a23e-c1808ff56f71"
      },
      "outputs": [
        {
          "output_type": "execute_result",
          "data": {
            "text/plain": [
              "MinMaxScaler()"
            ],
            "text/html": [
              "<style>#sk-container-id-1 {color: black;background-color: white;}#sk-container-id-1 pre{padding: 0;}#sk-container-id-1 div.sk-toggleable {background-color: white;}#sk-container-id-1 label.sk-toggleable__label {cursor: pointer;display: block;width: 100%;margin-bottom: 0;padding: 0.3em;box-sizing: border-box;text-align: center;}#sk-container-id-1 label.sk-toggleable__label-arrow:before {content: \"▸\";float: left;margin-right: 0.25em;color: #696969;}#sk-container-id-1 label.sk-toggleable__label-arrow:hover:before {color: black;}#sk-container-id-1 div.sk-estimator:hover label.sk-toggleable__label-arrow:before {color: black;}#sk-container-id-1 div.sk-toggleable__content {max-height: 0;max-width: 0;overflow: hidden;text-align: left;background-color: #f0f8ff;}#sk-container-id-1 div.sk-toggleable__content pre {margin: 0.2em;color: black;border-radius: 0.25em;background-color: #f0f8ff;}#sk-container-id-1 input.sk-toggleable__control:checked~div.sk-toggleable__content {max-height: 200px;max-width: 100%;overflow: auto;}#sk-container-id-1 input.sk-toggleable__control:checked~label.sk-toggleable__label-arrow:before {content: \"▾\";}#sk-container-id-1 div.sk-estimator input.sk-toggleable__control:checked~label.sk-toggleable__label {background-color: #d4ebff;}#sk-container-id-1 div.sk-label input.sk-toggleable__control:checked~label.sk-toggleable__label {background-color: #d4ebff;}#sk-container-id-1 input.sk-hidden--visually {border: 0;clip: rect(1px 1px 1px 1px);clip: rect(1px, 1px, 1px, 1px);height: 1px;margin: -1px;overflow: hidden;padding: 0;position: absolute;width: 1px;}#sk-container-id-1 div.sk-estimator {font-family: monospace;background-color: #f0f8ff;border: 1px dotted black;border-radius: 0.25em;box-sizing: border-box;margin-bottom: 0.5em;}#sk-container-id-1 div.sk-estimator:hover {background-color: #d4ebff;}#sk-container-id-1 div.sk-parallel-item::after {content: \"\";width: 100%;border-bottom: 1px solid gray;flex-grow: 1;}#sk-container-id-1 div.sk-label:hover label.sk-toggleable__label {background-color: #d4ebff;}#sk-container-id-1 div.sk-serial::before {content: \"\";position: absolute;border-left: 1px solid gray;box-sizing: border-box;top: 0;bottom: 0;left: 50%;z-index: 0;}#sk-container-id-1 div.sk-serial {display: flex;flex-direction: column;align-items: center;background-color: white;padding-right: 0.2em;padding-left: 0.2em;position: relative;}#sk-container-id-1 div.sk-item {position: relative;z-index: 1;}#sk-container-id-1 div.sk-parallel {display: flex;align-items: stretch;justify-content: center;background-color: white;position: relative;}#sk-container-id-1 div.sk-item::before, #sk-container-id-1 div.sk-parallel-item::before {content: \"\";position: absolute;border-left: 1px solid gray;box-sizing: border-box;top: 0;bottom: 0;left: 50%;z-index: -1;}#sk-container-id-1 div.sk-parallel-item {display: flex;flex-direction: column;z-index: 1;position: relative;background-color: white;}#sk-container-id-1 div.sk-parallel-item:first-child::after {align-self: flex-end;width: 50%;}#sk-container-id-1 div.sk-parallel-item:last-child::after {align-self: flex-start;width: 50%;}#sk-container-id-1 div.sk-parallel-item:only-child::after {width: 0;}#sk-container-id-1 div.sk-dashed-wrapped {border: 1px dashed gray;margin: 0 0.4em 0.5em 0.4em;box-sizing: border-box;padding-bottom: 0.4em;background-color: white;}#sk-container-id-1 div.sk-label label {font-family: monospace;font-weight: bold;display: inline-block;line-height: 1.2em;}#sk-container-id-1 div.sk-label-container {text-align: center;}#sk-container-id-1 div.sk-container {/* jupyter's `normalize.less` sets `[hidden] { display: none; }` but bootstrap.min.css set `[hidden] { display: none !important; }` so we also need the `!important` here to be able to override the default hidden behavior on the sphinx rendered scikit-learn.org. See: https://github.com/scikit-learn/scikit-learn/issues/21755 */display: inline-block !important;position: relative;}#sk-container-id-1 div.sk-text-repr-fallback {display: none;}</style><div id=\"sk-container-id-1\" class=\"sk-top-container\"><div class=\"sk-text-repr-fallback\"><pre>MinMaxScaler()</pre><b>In a Jupyter environment, please rerun this cell to show the HTML representation or trust the notebook. <br />On GitHub, the HTML representation is unable to render, please try loading this page with nbviewer.org.</b></div><div class=\"sk-container\" hidden><div class=\"sk-item\"><div class=\"sk-estimator sk-toggleable\"><input class=\"sk-toggleable__control sk-hidden--visually\" id=\"sk-estimator-id-1\" type=\"checkbox\" checked><label for=\"sk-estimator-id-1\" class=\"sk-toggleable__label sk-toggleable__label-arrow\">MinMaxScaler</label><div class=\"sk-toggleable__content\"><pre>MinMaxScaler()</pre></div></div></div></div></div>"
            ]
          },
          "metadata": {},
          "execution_count": 16
        }
      ],
      "source": [
        "scaler_object.fit(X_train)"
      ]
    },
    {
      "cell_type": "code",
      "execution_count": 17,
      "metadata": {
        "id": "Np1kzMZNwEfb"
      },
      "outputs": [],
      "source": [
        "scaled_X_train = scaler_object.transform(X_train)\n",
        "scaled_X_test = scaler_object.transform(X_test)"
      ]
    },
    {
      "cell_type": "code",
      "execution_count": 18,
      "metadata": {
        "id": "1ZMS4DsfwEfb"
      },
      "outputs": [],
      "source": [
        "from tensorflow.keras.models import Sequential\n",
        "from tensorflow.keras.layers import Dense"
      ]
    },
    {
      "cell_type": "code",
      "execution_count": 19,
      "metadata": {
        "id": "7kQ8qcjKwEfb"
      },
      "outputs": [],
      "source": [
        "model = Sequential()\n",
        "model.add(Dense(8,input_dim=4,activation='relu'))\n",
        "model.add(Dense(8,activation='relu'))\n",
        "model.add(Dense(3,activation='softmax'))\n",
        "model.compile(loss = 'categorical_crossentropy',optimizer = 'adam',metrics=['accuracy'])"
      ]
    },
    {
      "cell_type": "code",
      "execution_count": 20,
      "metadata": {
        "colab": {
          "base_uri": "https://localhost:8080/"
        },
        "id": "D-pdy5ASwEfb",
        "outputId": "f1b46f9c-5c20-4cac-defe-9f3399628846"
      },
      "outputs": [
        {
          "output_type": "stream",
          "name": "stdout",
          "text": [
            "Model: \"sequential\"\n",
            "_________________________________________________________________\n",
            " Layer (type)                Output Shape              Param #   \n",
            "=================================================================\n",
            " dense (Dense)               (None, 8)                 40        \n",
            "                                                                 \n",
            " dense_1 (Dense)             (None, 8)                 72        \n",
            "                                                                 \n",
            " dense_2 (Dense)             (None, 3)                 27        \n",
            "                                                                 \n",
            "=================================================================\n",
            "Total params: 139\n",
            "Trainable params: 139\n",
            "Non-trainable params: 0\n",
            "_________________________________________________________________\n"
          ]
        }
      ],
      "source": [
        "model.summary()"
      ]
    },
    {
      "cell_type": "code",
      "execution_count": 21,
      "metadata": {
        "colab": {
          "base_uri": "https://localhost:8080/"
        },
        "id": "ZPxQdS5kwEfc",
        "outputId": "95af7062-3f14-4bce-9be5-58d6439362b0"
      },
      "outputs": [
        {
          "output_type": "stream",
          "name": "stdout",
          "text": [
            "Epoch 1/150\n",
            "4/4 - 1s - loss: 1.0722 - accuracy: 0.3400 - 914ms/epoch - 229ms/step\n",
            "Epoch 2/150\n",
            "4/4 - 0s - loss: 1.0673 - accuracy: 0.3400 - 15ms/epoch - 4ms/step\n",
            "Epoch 3/150\n",
            "4/4 - 0s - loss: 1.0626 - accuracy: 0.3400 - 13ms/epoch - 3ms/step\n",
            "Epoch 4/150\n",
            "4/4 - 0s - loss: 1.0591 - accuracy: 0.3500 - 14ms/epoch - 3ms/step\n",
            "Epoch 5/150\n",
            "4/4 - 0s - loss: 1.0549 - accuracy: 0.3500 - 13ms/epoch - 3ms/step\n",
            "Epoch 6/150\n",
            "4/4 - 0s - loss: 1.0512 - accuracy: 0.3900 - 12ms/epoch - 3ms/step\n",
            "Epoch 7/150\n",
            "4/4 - 0s - loss: 1.0476 - accuracy: 0.4700 - 12ms/epoch - 3ms/step\n",
            "Epoch 8/150\n",
            "4/4 - 0s - loss: 1.0440 - accuracy: 0.4600 - 12ms/epoch - 3ms/step\n",
            "Epoch 9/150\n",
            "4/4 - 0s - loss: 1.0405 - accuracy: 0.4500 - 13ms/epoch - 3ms/step\n",
            "Epoch 10/150\n",
            "4/4 - 0s - loss: 1.0369 - accuracy: 0.4600 - 16ms/epoch - 4ms/step\n",
            "Epoch 11/150\n",
            "4/4 - 0s - loss: 1.0332 - accuracy: 0.4800 - 12ms/epoch - 3ms/step\n",
            "Epoch 12/150\n",
            "4/4 - 0s - loss: 1.0294 - accuracy: 0.4900 - 12ms/epoch - 3ms/step\n",
            "Epoch 13/150\n",
            "4/4 - 0s - loss: 1.0255 - accuracy: 0.5000 - 11ms/epoch - 3ms/step\n",
            "Epoch 14/150\n",
            "4/4 - 0s - loss: 1.0216 - accuracy: 0.5100 - 11ms/epoch - 3ms/step\n",
            "Epoch 15/150\n",
            "4/4 - 0s - loss: 1.0175 - accuracy: 0.5400 - 14ms/epoch - 3ms/step\n",
            "Epoch 16/150\n",
            "4/4 - 0s - loss: 1.0140 - accuracy: 0.5500 - 12ms/epoch - 3ms/step\n",
            "Epoch 17/150\n",
            "4/4 - 0s - loss: 1.0105 - accuracy: 0.5500 - 11ms/epoch - 3ms/step\n",
            "Epoch 18/150\n",
            "4/4 - 0s - loss: 1.0069 - accuracy: 0.5600 - 12ms/epoch - 3ms/step\n",
            "Epoch 19/150\n",
            "4/4 - 0s - loss: 1.0028 - accuracy: 0.5800 - 12ms/epoch - 3ms/step\n",
            "Epoch 20/150\n",
            "4/4 - 0s - loss: 0.9986 - accuracy: 0.5800 - 13ms/epoch - 3ms/step\n",
            "Epoch 21/150\n",
            "4/4 - 0s - loss: 0.9941 - accuracy: 0.5900 - 13ms/epoch - 3ms/step\n",
            "Epoch 22/150\n",
            "4/4 - 0s - loss: 0.9894 - accuracy: 0.6000 - 14ms/epoch - 4ms/step\n",
            "Epoch 23/150\n",
            "4/4 - 0s - loss: 0.9846 - accuracy: 0.6100 - 12ms/epoch - 3ms/step\n",
            "Epoch 24/150\n",
            "4/4 - 0s - loss: 0.9799 - accuracy: 0.6300 - 14ms/epoch - 4ms/step\n",
            "Epoch 25/150\n",
            "4/4 - 0s - loss: 0.9749 - accuracy: 0.6300 - 13ms/epoch - 3ms/step\n",
            "Epoch 26/150\n",
            "4/4 - 0s - loss: 0.9703 - accuracy: 0.6300 - 12ms/epoch - 3ms/step\n",
            "Epoch 27/150\n",
            "4/4 - 0s - loss: 0.9650 - accuracy: 0.6300 - 14ms/epoch - 4ms/step\n",
            "Epoch 28/150\n",
            "4/4 - 0s - loss: 0.9596 - accuracy: 0.6300 - 12ms/epoch - 3ms/step\n",
            "Epoch 29/150\n",
            "4/4 - 0s - loss: 0.9541 - accuracy: 0.6300 - 12ms/epoch - 3ms/step\n",
            "Epoch 30/150\n",
            "4/4 - 0s - loss: 0.9484 - accuracy: 0.6400 - 11ms/epoch - 3ms/step\n",
            "Epoch 31/150\n",
            "4/4 - 0s - loss: 0.9426 - accuracy: 0.6400 - 12ms/epoch - 3ms/step\n",
            "Epoch 32/150\n",
            "4/4 - 0s - loss: 0.9360 - accuracy: 0.6400 - 12ms/epoch - 3ms/step\n",
            "Epoch 33/150\n",
            "4/4 - 0s - loss: 0.9296 - accuracy: 0.6500 - 11ms/epoch - 3ms/step\n",
            "Epoch 34/150\n",
            "4/4 - 0s - loss: 0.9234 - accuracy: 0.6500 - 11ms/epoch - 3ms/step\n",
            "Epoch 35/150\n",
            "4/4 - 0s - loss: 0.9165 - accuracy: 0.6500 - 11ms/epoch - 3ms/step\n",
            "Epoch 36/150\n",
            "4/4 - 0s - loss: 0.9097 - accuracy: 0.6500 - 11ms/epoch - 3ms/step\n",
            "Epoch 37/150\n",
            "4/4 - 0s - loss: 0.9024 - accuracy: 0.6500 - 11ms/epoch - 3ms/step\n",
            "Epoch 38/150\n",
            "4/4 - 0s - loss: 0.8949 - accuracy: 0.6500 - 11ms/epoch - 3ms/step\n",
            "Epoch 39/150\n",
            "4/4 - 0s - loss: 0.8867 - accuracy: 0.6500 - 11ms/epoch - 3ms/step\n",
            "Epoch 40/150\n",
            "4/4 - 0s - loss: 0.8785 - accuracy: 0.6500 - 11ms/epoch - 3ms/step\n",
            "Epoch 41/150\n",
            "4/4 - 0s - loss: 0.8703 - accuracy: 0.6500 - 11ms/epoch - 3ms/step\n",
            "Epoch 42/150\n",
            "4/4 - 0s - loss: 0.8611 - accuracy: 0.6500 - 11ms/epoch - 3ms/step\n",
            "Epoch 43/150\n",
            "4/4 - 0s - loss: 0.8524 - accuracy: 0.6500 - 13ms/epoch - 3ms/step\n",
            "Epoch 44/150\n",
            "4/4 - 0s - loss: 0.8433 - accuracy: 0.6500 - 12ms/epoch - 3ms/step\n",
            "Epoch 45/150\n",
            "4/4 - 0s - loss: 0.8341 - accuracy: 0.6500 - 11ms/epoch - 3ms/step\n",
            "Epoch 46/150\n",
            "4/4 - 0s - loss: 0.8240 - accuracy: 0.6500 - 11ms/epoch - 3ms/step\n",
            "Epoch 47/150\n",
            "4/4 - 0s - loss: 0.8137 - accuracy: 0.6500 - 11ms/epoch - 3ms/step\n",
            "Epoch 48/150\n",
            "4/4 - 0s - loss: 0.8048 - accuracy: 0.6500 - 11ms/epoch - 3ms/step\n",
            "Epoch 49/150\n",
            "4/4 - 0s - loss: 0.7952 - accuracy: 0.6500 - 11ms/epoch - 3ms/step\n",
            "Epoch 50/150\n",
            "4/4 - 0s - loss: 0.7859 - accuracy: 0.6500 - 11ms/epoch - 3ms/step\n",
            "Epoch 51/150\n",
            "4/4 - 0s - loss: 0.7760 - accuracy: 0.6500 - 10ms/epoch - 3ms/step\n",
            "Epoch 52/150\n",
            "4/4 - 0s - loss: 0.7662 - accuracy: 0.6500 - 11ms/epoch - 3ms/step\n",
            "Epoch 53/150\n",
            "4/4 - 0s - loss: 0.7571 - accuracy: 0.6500 - 11ms/epoch - 3ms/step\n",
            "Epoch 54/150\n",
            "4/4 - 0s - loss: 0.7477 - accuracy: 0.6500 - 11ms/epoch - 3ms/step\n",
            "Epoch 55/150\n",
            "4/4 - 0s - loss: 0.7385 - accuracy: 0.6500 - 12ms/epoch - 3ms/step\n",
            "Epoch 56/150\n",
            "4/4 - 0s - loss: 0.7289 - accuracy: 0.6500 - 12ms/epoch - 3ms/step\n",
            "Epoch 57/150\n",
            "4/4 - 0s - loss: 0.7197 - accuracy: 0.6500 - 11ms/epoch - 3ms/step\n",
            "Epoch 58/150\n",
            "4/4 - 0s - loss: 0.7101 - accuracy: 0.6500 - 12ms/epoch - 3ms/step\n",
            "Epoch 59/150\n",
            "4/4 - 0s - loss: 0.7011 - accuracy: 0.6500 - 15ms/epoch - 4ms/step\n",
            "Epoch 60/150\n",
            "4/4 - 0s - loss: 0.6926 - accuracy: 0.6500 - 12ms/epoch - 3ms/step\n",
            "Epoch 61/150\n",
            "4/4 - 0s - loss: 0.6845 - accuracy: 0.6500 - 11ms/epoch - 3ms/step\n",
            "Epoch 62/150\n",
            "4/4 - 0s - loss: 0.6765 - accuracy: 0.6500 - 13ms/epoch - 3ms/step\n",
            "Epoch 63/150\n",
            "4/4 - 0s - loss: 0.6690 - accuracy: 0.6500 - 15ms/epoch - 4ms/step\n",
            "Epoch 64/150\n",
            "4/4 - 0s - loss: 0.6615 - accuracy: 0.6500 - 14ms/epoch - 4ms/step\n",
            "Epoch 65/150\n",
            "4/4 - 0s - loss: 0.6538 - accuracy: 0.6500 - 14ms/epoch - 3ms/step\n",
            "Epoch 66/150\n",
            "4/4 - 0s - loss: 0.6464 - accuracy: 0.6500 - 14ms/epoch - 4ms/step\n",
            "Epoch 67/150\n",
            "4/4 - 0s - loss: 0.6395 - accuracy: 0.6500 - 14ms/epoch - 4ms/step\n",
            "Epoch 68/150\n",
            "4/4 - 0s - loss: 0.6326 - accuracy: 0.6500 - 11ms/epoch - 3ms/step\n",
            "Epoch 69/150\n",
            "4/4 - 0s - loss: 0.6261 - accuracy: 0.6500 - 13ms/epoch - 3ms/step\n",
            "Epoch 70/150\n",
            "4/4 - 0s - loss: 0.6199 - accuracy: 0.6500 - 12ms/epoch - 3ms/step\n",
            "Epoch 71/150\n",
            "4/4 - 0s - loss: 0.6139 - accuracy: 0.6500 - 16ms/epoch - 4ms/step\n",
            "Epoch 72/150\n",
            "4/4 - 0s - loss: 0.6077 - accuracy: 0.6500 - 22ms/epoch - 6ms/step\n",
            "Epoch 73/150\n",
            "4/4 - 0s - loss: 0.6016 - accuracy: 0.6500 - 17ms/epoch - 4ms/step\n",
            "Epoch 74/150\n",
            "4/4 - 0s - loss: 0.5954 - accuracy: 0.6500 - 17ms/epoch - 4ms/step\n",
            "Epoch 75/150\n",
            "4/4 - 0s - loss: 0.5892 - accuracy: 0.6500 - 17ms/epoch - 4ms/step\n",
            "Epoch 76/150\n",
            "4/4 - 0s - loss: 0.5833 - accuracy: 0.6600 - 17ms/epoch - 4ms/step\n",
            "Epoch 77/150\n",
            "4/4 - 0s - loss: 0.5771 - accuracy: 0.6700 - 14ms/epoch - 3ms/step\n",
            "Epoch 78/150\n",
            "4/4 - 0s - loss: 0.5711 - accuracy: 0.6700 - 15ms/epoch - 4ms/step\n",
            "Epoch 79/150\n",
            "4/4 - 0s - loss: 0.5650 - accuracy: 0.6700 - 18ms/epoch - 5ms/step\n",
            "Epoch 80/150\n",
            "4/4 - 0s - loss: 0.5593 - accuracy: 0.6700 - 18ms/epoch - 4ms/step\n",
            "Epoch 81/150\n",
            "4/4 - 0s - loss: 0.5534 - accuracy: 0.6800 - 17ms/epoch - 4ms/step\n",
            "Epoch 82/150\n",
            "4/4 - 0s - loss: 0.5478 - accuracy: 0.6900 - 17ms/epoch - 4ms/step\n",
            "Epoch 83/150\n",
            "4/4 - 0s - loss: 0.5427 - accuracy: 0.6900 - 18ms/epoch - 4ms/step\n",
            "Epoch 84/150\n",
            "4/4 - 0s - loss: 0.5378 - accuracy: 0.7000 - 17ms/epoch - 4ms/step\n",
            "Epoch 85/150\n",
            "4/4 - 0s - loss: 0.5325 - accuracy: 0.7000 - 14ms/epoch - 4ms/step\n",
            "Epoch 86/150\n",
            "4/4 - 0s - loss: 0.5270 - accuracy: 0.7000 - 14ms/epoch - 4ms/step\n",
            "Epoch 87/150\n",
            "4/4 - 0s - loss: 0.5226 - accuracy: 0.7100 - 13ms/epoch - 3ms/step\n",
            "Epoch 88/150\n",
            "4/4 - 0s - loss: 0.5180 - accuracy: 0.7100 - 13ms/epoch - 3ms/step\n",
            "Epoch 89/150\n",
            "4/4 - 0s - loss: 0.5139 - accuracy: 0.7200 - 13ms/epoch - 3ms/step\n",
            "Epoch 90/150\n",
            "4/4 - 0s - loss: 0.5091 - accuracy: 0.7200 - 13ms/epoch - 3ms/step\n",
            "Epoch 91/150\n",
            "4/4 - 0s - loss: 0.5047 - accuracy: 0.7200 - 16ms/epoch - 4ms/step\n",
            "Epoch 92/150\n",
            "4/4 - 0s - loss: 0.5004 - accuracy: 0.7200 - 16ms/epoch - 4ms/step\n",
            "Epoch 93/150\n",
            "4/4 - 0s - loss: 0.4960 - accuracy: 0.7200 - 15ms/epoch - 4ms/step\n",
            "Epoch 94/150\n",
            "4/4 - 0s - loss: 0.4900 - accuracy: 0.7400 - 15ms/epoch - 4ms/step\n",
            "Epoch 95/150\n",
            "4/4 - 0s - loss: 0.4809 - accuracy: 0.8000 - 16ms/epoch - 4ms/step\n",
            "Epoch 96/150\n",
            "4/4 - 0s - loss: 0.4734 - accuracy: 0.8700 - 14ms/epoch - 3ms/step\n",
            "Epoch 97/150\n",
            "4/4 - 0s - loss: 0.4686 - accuracy: 0.8900 - 14ms/epoch - 3ms/step\n",
            "Epoch 98/150\n",
            "4/4 - 0s - loss: 0.4634 - accuracy: 0.8900 - 16ms/epoch - 4ms/step\n",
            "Epoch 99/150\n",
            "4/4 - 0s - loss: 0.4580 - accuracy: 0.9000 - 19ms/epoch - 5ms/step\n",
            "Epoch 100/150\n",
            "4/4 - 0s - loss: 0.4527 - accuracy: 0.9100 - 19ms/epoch - 5ms/step\n",
            "Epoch 101/150\n",
            "4/4 - 0s - loss: 0.4470 - accuracy: 0.9100 - 15ms/epoch - 4ms/step\n",
            "Epoch 102/150\n",
            "4/4 - 0s - loss: 0.4415 - accuracy: 0.9100 - 16ms/epoch - 4ms/step\n",
            "Epoch 103/150\n",
            "4/4 - 0s - loss: 0.4365 - accuracy: 0.9100 - 14ms/epoch - 3ms/step\n",
            "Epoch 104/150\n",
            "4/4 - 0s - loss: 0.4312 - accuracy: 0.9200 - 15ms/epoch - 4ms/step\n",
            "Epoch 105/150\n",
            "4/4 - 0s - loss: 0.4267 - accuracy: 0.9300 - 15ms/epoch - 4ms/step\n",
            "Epoch 106/150\n",
            "4/4 - 0s - loss: 0.4228 - accuracy: 0.9300 - 14ms/epoch - 4ms/step\n",
            "Epoch 107/150\n",
            "4/4 - 0s - loss: 0.4178 - accuracy: 0.9400 - 16ms/epoch - 4ms/step\n",
            "Epoch 108/150\n",
            "4/4 - 0s - loss: 0.4133 - accuracy: 0.9400 - 16ms/epoch - 4ms/step\n",
            "Epoch 109/150\n",
            "4/4 - 0s - loss: 0.4084 - accuracy: 0.9400 - 18ms/epoch - 5ms/step\n",
            "Epoch 110/150\n",
            "4/4 - 0s - loss: 0.4042 - accuracy: 0.9400 - 14ms/epoch - 3ms/step\n",
            "Epoch 111/150\n",
            "4/4 - 0s - loss: 0.4001 - accuracy: 0.9500 - 13ms/epoch - 3ms/step\n",
            "Epoch 112/150\n",
            "4/4 - 0s - loss: 0.3957 - accuracy: 0.9500 - 14ms/epoch - 3ms/step\n",
            "Epoch 113/150\n",
            "4/4 - 0s - loss: 0.3916 - accuracy: 0.9500 - 13ms/epoch - 3ms/step\n",
            "Epoch 114/150\n",
            "4/4 - 0s - loss: 0.3878 - accuracy: 0.9500 - 14ms/epoch - 3ms/step\n",
            "Epoch 115/150\n",
            "4/4 - 0s - loss: 0.3839 - accuracy: 0.9500 - 14ms/epoch - 3ms/step\n",
            "Epoch 116/150\n",
            "4/4 - 0s - loss: 0.3805 - accuracy: 0.9600 - 14ms/epoch - 4ms/step\n",
            "Epoch 117/150\n",
            "4/4 - 0s - loss: 0.3764 - accuracy: 0.9600 - 14ms/epoch - 4ms/step\n",
            "Epoch 118/150\n",
            "4/4 - 0s - loss: 0.3735 - accuracy: 0.9400 - 14ms/epoch - 3ms/step\n",
            "Epoch 119/150\n",
            "4/4 - 0s - loss: 0.3710 - accuracy: 0.9400 - 13ms/epoch - 3ms/step\n",
            "Epoch 120/150\n",
            "4/4 - 0s - loss: 0.3684 - accuracy: 0.9300 - 13ms/epoch - 3ms/step\n",
            "Epoch 121/150\n",
            "4/4 - 0s - loss: 0.3653 - accuracy: 0.9300 - 14ms/epoch - 3ms/step\n",
            "Epoch 122/150\n",
            "4/4 - 0s - loss: 0.3616 - accuracy: 0.9400 - 14ms/epoch - 3ms/step\n",
            "Epoch 123/150\n",
            "4/4 - 0s - loss: 0.3561 - accuracy: 0.9400 - 14ms/epoch - 4ms/step\n",
            "Epoch 124/150\n",
            "4/4 - 0s - loss: 0.3527 - accuracy: 0.9500 - 13ms/epoch - 3ms/step\n",
            "Epoch 125/150\n",
            "4/4 - 0s - loss: 0.3483 - accuracy: 0.9600 - 17ms/epoch - 4ms/step\n",
            "Epoch 126/150\n",
            "4/4 - 0s - loss: 0.3451 - accuracy: 0.9600 - 17ms/epoch - 4ms/step\n",
            "Epoch 127/150\n",
            "4/4 - 0s - loss: 0.3416 - accuracy: 0.9600 - 18ms/epoch - 4ms/step\n",
            "Epoch 128/150\n",
            "4/4 - 0s - loss: 0.3379 - accuracy: 0.9600 - 16ms/epoch - 4ms/step\n",
            "Epoch 129/150\n",
            "4/4 - 0s - loss: 0.3349 - accuracy: 0.9600 - 15ms/epoch - 4ms/step\n",
            "Epoch 130/150\n",
            "4/4 - 0s - loss: 0.3317 - accuracy: 0.9600 - 15ms/epoch - 4ms/step\n",
            "Epoch 131/150\n",
            "4/4 - 0s - loss: 0.3284 - accuracy: 0.9600 - 16ms/epoch - 4ms/step\n",
            "Epoch 132/150\n",
            "4/4 - 0s - loss: 0.3259 - accuracy: 0.9500 - 15ms/epoch - 4ms/step\n",
            "Epoch 133/150\n",
            "4/4 - 0s - loss: 0.3225 - accuracy: 0.9500 - 14ms/epoch - 4ms/step\n",
            "Epoch 134/150\n",
            "4/4 - 0s - loss: 0.3191 - accuracy: 0.9600 - 14ms/epoch - 4ms/step\n",
            "Epoch 135/150\n",
            "4/4 - 0s - loss: 0.3146 - accuracy: 0.9600 - 15ms/epoch - 4ms/step\n",
            "Epoch 136/150\n",
            "4/4 - 0s - loss: 0.3120 - accuracy: 0.9600 - 14ms/epoch - 3ms/step\n",
            "Epoch 137/150\n",
            "4/4 - 0s - loss: 0.3088 - accuracy: 0.9600 - 13ms/epoch - 3ms/step\n",
            "Epoch 138/150\n",
            "4/4 - 0s - loss: 0.3054 - accuracy: 0.9600 - 14ms/epoch - 3ms/step\n",
            "Epoch 139/150\n",
            "4/4 - 0s - loss: 0.3029 - accuracy: 0.9600 - 14ms/epoch - 4ms/step\n",
            "Epoch 140/150\n",
            "4/4 - 0s - loss: 0.2995 - accuracy: 0.9600 - 14ms/epoch - 3ms/step\n",
            "Epoch 141/150\n",
            "4/4 - 0s - loss: 0.2966 - accuracy: 0.9600 - 14ms/epoch - 4ms/step\n",
            "Epoch 142/150\n",
            "4/4 - 0s - loss: 0.2940 - accuracy: 0.9600 - 17ms/epoch - 4ms/step\n",
            "Epoch 143/150\n",
            "4/4 - 0s - loss: 0.2909 - accuracy: 0.9600 - 15ms/epoch - 4ms/step\n",
            "Epoch 144/150\n",
            "4/4 - 0s - loss: 0.2880 - accuracy: 0.9600 - 17ms/epoch - 4ms/step\n",
            "Epoch 145/150\n",
            "4/4 - 0s - loss: 0.2845 - accuracy: 0.9600 - 14ms/epoch - 4ms/step\n",
            "Epoch 146/150\n",
            "4/4 - 0s - loss: 0.2823 - accuracy: 0.9600 - 14ms/epoch - 4ms/step\n",
            "Epoch 147/150\n",
            "4/4 - 0s - loss: 0.2808 - accuracy: 0.9600 - 14ms/epoch - 4ms/step\n",
            "Epoch 148/150\n",
            "4/4 - 0s - loss: 0.2783 - accuracy: 0.9700 - 14ms/epoch - 4ms/step\n",
            "Epoch 149/150\n",
            "4/4 - 0s - loss: 0.2736 - accuracy: 0.9600 - 13ms/epoch - 3ms/step\n",
            "Epoch 150/150\n",
            "4/4 - 0s - loss: 0.2736 - accuracy: 0.9600 - 13ms/epoch - 3ms/step\n"
          ]
        },
        {
          "output_type": "execute_result",
          "data": {
            "text/plain": [
              "<keras.callbacks.History at 0x7f71286c7940>"
            ]
          },
          "metadata": {},
          "execution_count": 21
        }
      ],
      "source": [
        "model.fit(scaled_X_train,y_train,epochs = 150, verbose = 2)"
      ]
    },
    {
      "cell_type": "code",
      "execution_count": 25,
      "metadata": {
        "colab": {
          "base_uri": "https://localhost:8080/"
        },
        "id": "x6AspM-5wEfc",
        "outputId": "0d993872-8989-4c79-c344-6fe7368f5b50"
      },
      "outputs": [
        {
          "output_type": "stream",
          "name": "stdout",
          "text": [
            "2/2 [==============================] - 0s 9ms/step\n"
          ]
        }
      ],
      "source": [
        "predict = model.predict(scaled_X_test)"
      ]
    },
    {
      "cell_type": "code",
      "source": [
        "classes = np.argmax(predict,axis = 1)"
      ],
      "metadata": {
        "id": "Xt8veZqiwH8J"
      },
      "execution_count": 26,
      "outputs": []
    },
    {
      "cell_type": "code",
      "source": [
        "classes"
      ],
      "metadata": {
        "colab": {
          "base_uri": "https://localhost:8080/"
        },
        "id": "H8WL8Fb8wxlt",
        "outputId": "e17a521c-580a-4b49-812e-12114a233f86"
      },
      "execution_count": 27,
      "outputs": [
        {
          "output_type": "execute_result",
          "data": {
            "text/plain": [
              "array([1, 0, 2, 1, 1, 0, 1, 2, 2, 1, 2, 0, 0, 0, 0, 1, 2, 1, 1, 2, 0, 2,\n",
              "       0, 2, 2, 2, 2, 2, 0, 0, 0, 0, 1, 0, 0, 2, 1, 0, 0, 0, 2, 1, 1, 0,\n",
              "       0, 1, 2, 2, 1, 2])"
            ]
          },
          "metadata": {},
          "execution_count": 27
        }
      ]
    },
    {
      "cell_type": "code",
      "source": [
        "test = np.argmax(y_test,axis=1)"
      ],
      "metadata": {
        "id": "MM3Y_VFTwyRp"
      },
      "execution_count": 29,
      "outputs": []
    },
    {
      "cell_type": "code",
      "source": [
        "test"
      ],
      "metadata": {
        "colab": {
          "base_uri": "https://localhost:8080/"
        },
        "id": "0cGoVgBqw0GL",
        "outputId": "e6250742-9fd1-4698-e9a1-1cc4db2eb8a7"
      },
      "execution_count": 30,
      "outputs": [
        {
          "output_type": "execute_result",
          "data": {
            "text/plain": [
              "array([1, 0, 2, 1, 1, 0, 1, 2, 1, 1, 2, 0, 0, 0, 0, 1, 2, 1, 1, 2, 0, 2,\n",
              "       0, 2, 2, 2, 2, 2, 0, 0, 0, 0, 1, 0, 0, 2, 1, 0, 0, 0, 2, 1, 1, 0,\n",
              "       0, 1, 2, 2, 1, 2])"
            ]
          },
          "metadata": {},
          "execution_count": 30
        }
      ]
    },
    {
      "cell_type": "code",
      "source": [
        "count = 0\n",
        "for i in range(len(test)):\n",
        "  if(test[i] == classes[i]):\n",
        "    count = count + 1;\n",
        "accuracy = count/len(test)"
      ],
      "metadata": {
        "id": "Lu__orr0w6Jx"
      },
      "execution_count": 32,
      "outputs": []
    },
    {
      "cell_type": "code",
      "source": [
        "accuracy*100"
      ],
      "metadata": {
        "colab": {
          "base_uri": "https://localhost:8080/"
        },
        "id": "jR2jV-H_xIFr",
        "outputId": "5e40b231-2c7d-45f5-af2e-00ae48997a40"
      },
      "execution_count": 34,
      "outputs": [
        {
          "output_type": "execute_result",
          "data": {
            "text/plain": [
              "98.0"
            ]
          },
          "metadata": {},
          "execution_count": 34
        }
      ]
    },
    {
      "cell_type": "code",
      "source": [
        "from sklearn.metrics import confusion_matrix,classification_report,accuracy_score"
      ],
      "metadata": {
        "id": "J6PB2CDyxLAu"
      },
      "execution_count": 35,
      "outputs": []
    },
    {
      "cell_type": "code",
      "source": [
        "confusion_matrix(test,classes)"
      ],
      "metadata": {
        "colab": {
          "base_uri": "https://localhost:8080/"
        },
        "id": "K8Zw7_knxb1-",
        "outputId": "84f7a401-d4e0-4b7f-84f4-6cf0e921b38e"
      },
      "execution_count": 36,
      "outputs": [
        {
          "output_type": "execute_result",
          "data": {
            "text/plain": [
              "array([[19,  0,  0],\n",
              "       [ 0, 14,  1],\n",
              "       [ 0,  0, 16]])"
            ]
          },
          "metadata": {},
          "execution_count": 36
        }
      ]
    },
    {
      "cell_type": "code",
      "source": [
        "print(classification_report(test,classes))"
      ],
      "metadata": {
        "colab": {
          "base_uri": "https://localhost:8080/"
        },
        "id": "dRlrlZaLxgN5",
        "outputId": "57fae764-4686-432a-fd9a-b11a3fafea84"
      },
      "execution_count": 37,
      "outputs": [
        {
          "output_type": "stream",
          "name": "stdout",
          "text": [
            "              precision    recall  f1-score   support\n",
            "\n",
            "           0       1.00      1.00      1.00        19\n",
            "           1       1.00      0.93      0.97        15\n",
            "           2       0.94      1.00      0.97        16\n",
            "\n",
            "    accuracy                           0.98        50\n",
            "   macro avg       0.98      0.98      0.98        50\n",
            "weighted avg       0.98      0.98      0.98        50\n",
            "\n"
          ]
        }
      ]
    },
    {
      "cell_type": "code",
      "source": [
        "print(accuracy_score(test,classes))"
      ],
      "metadata": {
        "colab": {
          "base_uri": "https://localhost:8080/"
        },
        "id": "YgzZ47lTxovT",
        "outputId": "ad4faaae-2231-4efa-d20c-5494227df8d0"
      },
      "execution_count": 38,
      "outputs": [
        {
          "output_type": "stream",
          "name": "stdout",
          "text": [
            "0.98\n"
          ]
        }
      ]
    },
    {
      "cell_type": "code",
      "source": [],
      "metadata": {
        "id": "0zDhfpMnyj2t"
      },
      "execution_count": null,
      "outputs": []
    }
  ],
  "metadata": {
    "kernelspec": {
      "display_name": "Python 3 (ipykernel)",
      "language": "python",
      "name": "python3"
    },
    "language_info": {
      "codemirror_mode": {
        "name": "ipython",
        "version": 3
      },
      "file_extension": ".py",
      "mimetype": "text/x-python",
      "name": "python",
      "nbconvert_exporter": "python",
      "pygments_lexer": "ipython3",
      "version": "3.6.9"
    },
    "colab": {
      "provenance": []
    }
  },
  "nbformat": 4,
  "nbformat_minor": 0
}