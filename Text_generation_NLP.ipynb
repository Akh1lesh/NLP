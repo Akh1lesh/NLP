{
  "nbformat": 4,
  "nbformat_minor": 0,
  "metadata": {
    "colab": {
      "provenance": []
    },
    "kernelspec": {
      "name": "python3",
      "display_name": "Python 3"
    },
    "language_info": {
      "name": "python"
    }
  },
  "cells": [
    {
      "cell_type": "code",
      "execution_count": 153,
      "metadata": {
        "id": "Z9yGa8aA2H6D"
      },
      "outputs": [],
      "source": [
        "def read(filepath):\n",
        "  with open(filepath) as f:\n",
        "    text = f.read()\n",
        "  \n",
        "  return text"
      ]
    },
    {
      "cell_type": "code",
      "source": [
        "read('example')"
      ],
      "metadata": {
        "colab": {
          "base_uri": "https://localhost:8080/",
          "height": 140
        },
        "id": "5GKI1QlQ2aei",
        "outputId": "ebeee7d2-8b6a-40e2-92f8-ebbc3680d695"
      },
      "execution_count": 154,
      "outputs": [
        {
          "output_type": "execute_result",
          "data": {
            "text/plain": [
              "'Images carry valuable information and these information can be hidden in images. In our day today life Gigabytes of new images are generated and stored, building a huge and unstructured image database, much of which can be accessed through the internet. Since image plays vital role in many applications, mining image data one of the essential features in the present research field. Image data plays vital role in every aspect of the system such as in hospital for surgery, engineering for construction, web for application and so on. The other area in image mining system is the Content Based Image Retrieval (CBIR) which performs retrieval based on the similarity defined in terms of extracted features with more objectiveness. Image mining combines the area of Content Based Image Retrieval, data mining, database. Many image retrieval systems were developed in this regard. Content Based Image Retrieval is one among them which aims at searching image databases for specific images that are similar to a given query image. This paper concentrates on Image Mining System using Content Based Image Retrieval approach, where it is focused on content of the image rather than its keywords. In the proposed system first the image undergoes preprocessing, segmentation using region description, feature extraction where low level image features like textures are considered. Finally similarity comparison is done on the query image with the features of other images in the database to retrieve relevant images from the image database.\\nMining means a process of discovering patterns in large datasets, image mining[1] means extracting knowledge hidden in images and generation of patterns which are not clearly accumulated in the images. Image mining[3] is used in many applications[4] such as weather forecasting ,medical imagery, criminal investigation, management of earth’s resources etc. all these applications[5] require the storage and processing of massive collection of images. Everyday numerous images are generated and are stored in the database of which few images are useful for many applications. Therefore retrieving useful images quickly and accurately from a huge image database becomes a challenge. Designing systems that understand images to enable effective search of large image databases is a new area in research field. Content of the image which is more important than attributes is not considered in many image query techniques. So , image retrieval techniques[5] are more focused on  Content Based Image Retrieval systems.\\n\\nIn CBIR low level features [6] such as spectrum, texture, and shape are used to represent the image content. The proposed system focused on CBIR[2]- [7] using region level description. First images undergo preprocessing step where which removes unwilling distortions in the image, then a color quantization is done on that image, Later region based segmentation is performed on the image. For each region in the image its textural features are extracted. GLCMs are used for texture calculations. The different texture parameters like contrast, correlation, homogeneity, mean, variance, standard deviation are calculated. Users can query example images based on these features. By similarity comparison the target image from the image repository is retrieved.\\n'"
            ],
            "application/vnd.google.colaboratory.intrinsic+json": {
              "type": "string"
            }
          },
          "metadata": {},
          "execution_count": 154
        }
      ]
    },
    {
      "cell_type": "code",
      "source": [
        "import spacy\n",
        "nlp = spacy.load('en_core_web_sm',disable=['parser','tagger','ner'])"
      ],
      "metadata": {
        "id": "CQhBmS2i25g0"
      },
      "execution_count": 155,
      "outputs": []
    },
    {
      "cell_type": "code",
      "source": [
        "nlp"
      ],
      "metadata": {
        "colab": {
          "base_uri": "https://localhost:8080/"
        },
        "id": "sJjW9amE3YLF",
        "outputId": "343bf0c7-fda8-4edd-b110-bda1ae95f949"
      },
      "execution_count": 156,
      "outputs": [
        {
          "output_type": "execute_result",
          "data": {
            "text/plain": [
              "<spacy.lang.en.English at 0x7f7250017b50>"
            ]
          },
          "metadata": {},
          "execution_count": 156
        }
      ]
    },
    {
      "cell_type": "code",
      "source": [
        "nlp.max_length = 2000000"
      ],
      "metadata": {
        "id": "b7QyTUGR3Ypf"
      },
      "execution_count": 157,
      "outputs": []
    },
    {
      "cell_type": "code",
      "source": [
        "def separate_punc(doc):\n",
        "  return [token.text.lower() for token in nlp(doc) if token.text not in '\\n\\n \\n\\n\\n!\"-#$%&()--.*+,-/:;<=>?@[\\\\]^_`{|}~\\t1']"
      ],
      "metadata": {
        "id": "4AVrPa_G5Sen"
      },
      "execution_count": 158,
      "outputs": []
    },
    {
      "cell_type": "code",
      "source": [
        "data = read('example')"
      ],
      "metadata": {
        "id": "Tmn9-tZ45boY"
      },
      "execution_count": 159,
      "outputs": []
    },
    {
      "cell_type": "code",
      "source": [
        "tokens = separate_punc(data)"
      ],
      "metadata": {
        "id": "O1-8bE2c7asJ"
      },
      "execution_count": 160,
      "outputs": []
    },
    {
      "cell_type": "code",
      "source": [
        "# tokens"
      ],
      "metadata": {
        "id": "zswz0yjs7fsU"
      },
      "execution_count": 161,
      "outputs": []
    },
    {
      "cell_type": "code",
      "source": [
        "print(len(tokens))"
      ],
      "metadata": {
        "colab": {
          "base_uri": "https://localhost:8080/"
        },
        "id": "ORQYu-Xh7ggf",
        "outputId": "4d80b3b9-b3a0-4e3b-8f7e-395b127916ed"
      },
      "execution_count": 162,
      "outputs": [
        {
          "output_type": "stream",
          "name": "stdout",
          "text": [
            "504\n"
          ]
        }
      ]
    },
    {
      "cell_type": "code",
      "source": [
        "train_len = 26\n",
        "text_seq = []\n",
        "for i in range(train_len,len(tokens)):\n",
        "  seq = tokens[i - train_len : i]\n",
        "  text_seq.append(seq)"
      ],
      "metadata": {
        "id": "bOuhCxQC8Cf0"
      },
      "execution_count": 163,
      "outputs": []
    },
    {
      "cell_type": "code",
      "source": [
        "text_seq[1]"
      ],
      "metadata": {
        "id": "KYDUgAfk9bbM",
        "colab": {
          "base_uri": "https://localhost:8080/"
        },
        "outputId": "8f2c52c5-2489-44be-97a4-de77a9aa9f48"
      },
      "execution_count": 164,
      "outputs": [
        {
          "output_type": "execute_result",
          "data": {
            "text/plain": [
              "['carry',\n",
              " 'valuable',\n",
              " 'information',\n",
              " 'and',\n",
              " 'these',\n",
              " 'information',\n",
              " 'can',\n",
              " 'be',\n",
              " 'hidden',\n",
              " 'in',\n",
              " 'images',\n",
              " 'in',\n",
              " 'our',\n",
              " 'day',\n",
              " 'today',\n",
              " 'life',\n",
              " 'gigabytes',\n",
              " 'of',\n",
              " 'new',\n",
              " 'images',\n",
              " 'are',\n",
              " 'generated',\n",
              " 'and',\n",
              " 'stored',\n",
              " 'building',\n",
              " 'a']"
            ]
          },
          "metadata": {},
          "execution_count": 164
        }
      ]
    },
    {
      "cell_type": "code",
      "source": [
        "from keras.preprocessing.text import Tokenizer"
      ],
      "metadata": {
        "id": "EHeaWZe9Gvar"
      },
      "execution_count": 165,
      "outputs": []
    },
    {
      "cell_type": "code",
      "source": [
        "tokenizer = Tokenizer()\n",
        "tokenizer.fit_on_texts(text_seq)"
      ],
      "metadata": {
        "id": "1hL6Qx3LH7wb"
      },
      "execution_count": 166,
      "outputs": []
    },
    {
      "cell_type": "code",
      "source": [
        "seq = tokenizer.texts_to_sequences(text_seq)"
      ],
      "metadata": {
        "id": "3LSx2Gm9IOrt"
      },
      "execution_count": 167,
      "outputs": []
    },
    {
      "cell_type": "code",
      "source": [
        "seq[0]"
      ],
      "metadata": {
        "id": "iIPoZvdEIWhv",
        "colab": {
          "base_uri": "https://localhost:8080/"
        },
        "outputId": "164e55d9-0f31-449b-8727-6a3e9039bfd3"
      },
      "execution_count": 168,
      "outputs": [
        {
          "output_type": "execute_result",
          "data": {
            "text/plain": [
              "[5,\n",
              " 212,\n",
              " 211,\n",
              " 208,\n",
              " 9,\n",
              " 74,\n",
              " 208,\n",
              " 39,\n",
              " 76,\n",
              " 75,\n",
              " 3,\n",
              " 5,\n",
              " 3,\n",
              " 207,\n",
              " 206,\n",
              " 205,\n",
              " 203,\n",
              " 202,\n",
              " 4,\n",
              " 73,\n",
              " 5,\n",
              " 6,\n",
              " 72,\n",
              " 9,\n",
              " 71,\n",
              " 78]"
            ]
          },
          "metadata": {},
          "execution_count": 168
        }
      ]
    },
    {
      "cell_type": "code",
      "source": [
        "# tokenizer.index_word"
      ],
      "metadata": {
        "id": "3p1L1lTvIXD7"
      },
      "execution_count": 169,
      "outputs": []
    },
    {
      "cell_type": "code",
      "source": [
        "vocab_size = len(tokenizer.word_counts)"
      ],
      "metadata": {
        "id": "1legzxQfI2T9"
      },
      "execution_count": 170,
      "outputs": []
    },
    {
      "cell_type": "code",
      "source": [
        "vocab_size"
      ],
      "metadata": {
        "colab": {
          "base_uri": "https://localhost:8080/"
        },
        "id": "8yG8IXdRJ7sD",
        "outputId": "18f3f602-d24c-463d-ac17-2593bd0c6e58"
      },
      "execution_count": 171,
      "outputs": [
        {
          "output_type": "execute_result",
          "data": {
            "text/plain": [
              "213"
            ]
          },
          "metadata": {},
          "execution_count": 171
        }
      ]
    },
    {
      "cell_type": "code",
      "source": [
        "import numpy as np\n",
        "seq = np.array(seq)"
      ],
      "metadata": {
        "id": "HG2QNuEnJ9Gz"
      },
      "execution_count": 172,
      "outputs": []
    },
    {
      "cell_type": "code",
      "source": [
        "# len(seq)"
      ],
      "metadata": {
        "id": "V_UXz_K9KQan"
      },
      "execution_count": 173,
      "outputs": []
    },
    {
      "cell_type": "code",
      "source": [
        "x = seq[:,:-1]"
      ],
      "metadata": {
        "id": "aTZ9VD9aKQu8"
      },
      "execution_count": 174,
      "outputs": []
    },
    {
      "cell_type": "code",
      "source": [
        "x.shape"
      ],
      "metadata": {
        "colab": {
          "base_uri": "https://localhost:8080/"
        },
        "id": "S_bjzSmvASNI",
        "outputId": "f518d76c-1e76-4ff6-d340-0ca225180b0f"
      },
      "execution_count": 175,
      "outputs": [
        {
          "output_type": "execute_result",
          "data": {
            "text/plain": [
              "(478, 25)"
            ]
          },
          "metadata": {},
          "execution_count": 175
        }
      ]
    },
    {
      "cell_type": "code",
      "source": [
        "y = seq[:,-1]"
      ],
      "metadata": {
        "id": "kVCPr1guK-f6"
      },
      "execution_count": 176,
      "outputs": []
    },
    {
      "cell_type": "code",
      "source": [
        "len(y)"
      ],
      "metadata": {
        "colab": {
          "base_uri": "https://localhost:8080/"
        },
        "id": "ZYtKdq7xLkHG",
        "outputId": "c5e09e4f-d818-4d0c-d05c-efd9f7d7ebc1"
      },
      "execution_count": 177,
      "outputs": [
        {
          "output_type": "execute_result",
          "data": {
            "text/plain": [
              "478"
            ]
          },
          "metadata": {},
          "execution_count": 177
        }
      ]
    },
    {
      "cell_type": "code",
      "source": [
        "from keras.utils import to_categorical\n",
        "y = to_categorical(y,num_classes = vocab_size + 1)"
      ],
      "metadata": {
        "id": "GB_ZODFoLlCa"
      },
      "execution_count": 178,
      "outputs": []
    },
    {
      "cell_type": "code",
      "source": [
        "len(y)"
      ],
      "metadata": {
        "colab": {
          "base_uri": "https://localhost:8080/"
        },
        "id": "ILZwujdCL0fS",
        "outputId": "dbdd1caf-971b-484b-84ab-cc47f6807dc9"
      },
      "execution_count": 179,
      "outputs": [
        {
          "output_type": "execute_result",
          "data": {
            "text/plain": [
              "478"
            ]
          },
          "metadata": {},
          "execution_count": 179
        }
      ]
    },
    {
      "cell_type": "code",
      "source": [
        "from keras.models import Sequential\n",
        "from keras.layers import Dense,LSTM,Embedding"
      ],
      "metadata": {
        "id": "g5jTOvzjL8o9"
      },
      "execution_count": 180,
      "outputs": []
    },
    {
      "cell_type": "code",
      "source": [
        "model = Sequential()\n",
        "model.add(Embedding(vocab_size+1,25,input_length = 25))\n",
        "model.add(LSTM(50,return_sequences = True))\n",
        "model.add(LSTM(50))\n",
        "model.add(Dense(50,activation = 'relu'))\n",
        "model.add(Dense(vocab_size+1,activation = 'softmax'))\n",
        "model.compile(loss='categorical_crossentropy',optimizer = 'adam', metrics = ['accuracy'])\n",
        "model.summary()\n"
      ],
      "metadata": {
        "colab": {
          "base_uri": "https://localhost:8080/"
        },
        "id": "woVJvlYpMahD",
        "outputId": "30059175-2cef-4e9f-a72a-22098efc3aeb"
      },
      "execution_count": 181,
      "outputs": [
        {
          "output_type": "stream",
          "name": "stdout",
          "text": [
            "Model: \"sequential_4\"\n",
            "_________________________________________________________________\n",
            " Layer (type)                Output Shape              Param #   \n",
            "=================================================================\n",
            " embedding_4 (Embedding)     (None, 25, 25)            5350      \n",
            "                                                                 \n",
            " lstm_8 (LSTM)               (None, 25, 50)            15200     \n",
            "                                                                 \n",
            " lstm_9 (LSTM)               (None, 50)                20200     \n",
            "                                                                 \n",
            " dense_8 (Dense)             (None, 50)                2550      \n",
            "                                                                 \n",
            " dense_9 (Dense)             (None, 214)               10914     \n",
            "                                                                 \n",
            "=================================================================\n",
            "Total params: 54,214\n",
            "Trainable params: 54,214\n",
            "Non-trainable params: 0\n",
            "_________________________________________________________________\n"
          ]
        }
      ]
    },
    {
      "cell_type": "code",
      "source": [
        "model.fit(x,y,batch_size = 10,epochs=150,verbose = 1)"
      ],
      "metadata": {
        "colab": {
          "base_uri": "https://localhost:8080/"
        },
        "id": "lRYpHluAN7Lv",
        "outputId": "cc0ed04b-fa1b-40bd-d100-b2cc05de0ca1"
      },
      "execution_count": 182,
      "outputs": [
        {
          "output_type": "stream",
          "name": "stdout",
          "text": [
            "Epoch 1/150\n",
            "48/48 [==============================] - 6s 28ms/step - loss: 5.2757 - accuracy: 0.0544\n",
            "Epoch 2/150\n",
            "48/48 [==============================] - 1s 28ms/step - loss: 4.9602 - accuracy: 0.0586\n",
            "Epoch 3/150\n",
            "48/48 [==============================] - 1s 28ms/step - loss: 4.8366 - accuracy: 0.0711\n",
            "Epoch 4/150\n",
            "48/48 [==============================] - 1s 28ms/step - loss: 4.8177 - accuracy: 0.0711\n",
            "Epoch 5/150\n",
            "48/48 [==============================] - 2s 35ms/step - loss: 4.7625 - accuracy: 0.0711\n",
            "Epoch 6/150\n",
            "48/48 [==============================] - 2s 40ms/step - loss: 4.7388 - accuracy: 0.0753\n",
            "Epoch 7/150\n",
            "48/48 [==============================] - 1s 28ms/step - loss: 4.6925 - accuracy: 0.0732\n",
            "Epoch 8/150\n",
            "48/48 [==============================] - 1s 29ms/step - loss: 4.6247 - accuracy: 0.0774\n",
            "Epoch 9/150\n",
            "48/48 [==============================] - 1s 28ms/step - loss: 4.5847 - accuracy: 0.0753\n",
            "Epoch 10/150\n",
            "48/48 [==============================] - 1s 29ms/step - loss: 4.5226 - accuracy: 0.0711\n",
            "Epoch 11/150\n",
            "48/48 [==============================] - 1s 28ms/step - loss: 4.4699 - accuracy: 0.0816\n",
            "Epoch 12/150\n",
            "48/48 [==============================] - 1s 28ms/step - loss: 4.3773 - accuracy: 0.0837\n",
            "Epoch 13/150\n",
            "48/48 [==============================] - 1s 29ms/step - loss: 4.3048 - accuracy: 0.0858\n",
            "Epoch 14/150\n",
            "48/48 [==============================] - 2s 39ms/step - loss: 4.2675 - accuracy: 0.0900\n",
            "Epoch 15/150\n",
            "48/48 [==============================] - 2s 38ms/step - loss: 4.2160 - accuracy: 0.0795\n",
            "Epoch 16/150\n",
            "48/48 [==============================] - 1s 28ms/step - loss: 4.2124 - accuracy: 0.0921\n",
            "Epoch 17/150\n",
            "48/48 [==============================] - 1s 28ms/step - loss: 4.1399 - accuracy: 0.0816\n",
            "Epoch 18/150\n",
            "48/48 [==============================] - 1s 29ms/step - loss: 4.0993 - accuracy: 0.0837\n",
            "Epoch 19/150\n",
            "48/48 [==============================] - 2s 40ms/step - loss: 4.0755 - accuracy: 0.0962\n",
            "Epoch 20/150\n",
            "48/48 [==============================] - 2s 37ms/step - loss: 4.0322 - accuracy: 0.0879\n",
            "Epoch 21/150\n",
            "48/48 [==============================] - 1s 29ms/step - loss: 4.0138 - accuracy: 0.0941\n",
            "Epoch 22/150\n",
            "48/48 [==============================] - 2s 38ms/step - loss: 4.0254 - accuracy: 0.0900\n",
            "Epoch 23/150\n",
            "48/48 [==============================] - 2s 38ms/step - loss: 3.9806 - accuracy: 0.0921\n",
            "Epoch 24/150\n",
            "48/48 [==============================] - 1s 28ms/step - loss: 3.9595 - accuracy: 0.0983\n",
            "Epoch 25/150\n",
            "48/48 [==============================] - 1s 28ms/step - loss: 3.9309 - accuracy: 0.0962\n",
            "Epoch 26/150\n",
            "48/48 [==============================] - 1s 28ms/step - loss: 3.8963 - accuracy: 0.1004\n",
            "Epoch 27/150\n",
            "48/48 [==============================] - 1s 28ms/step - loss: 3.8790 - accuracy: 0.1046\n",
            "Epoch 28/150\n",
            "48/48 [==============================] - 1s 28ms/step - loss: 3.8608 - accuracy: 0.1004\n",
            "Epoch 29/150\n",
            "48/48 [==============================] - 1s 28ms/step - loss: 3.8368 - accuracy: 0.1025\n",
            "Epoch 30/150\n",
            "48/48 [==============================] - 1s 28ms/step - loss: 3.8164 - accuracy: 0.1130\n",
            "Epoch 31/150\n",
            "48/48 [==============================] - 2s 38ms/step - loss: 3.7753 - accuracy: 0.1025\n",
            "Epoch 32/150\n",
            "48/48 [==============================] - 2s 38ms/step - loss: 3.7620 - accuracy: 0.1151\n",
            "Epoch 33/150\n",
            "48/48 [==============================] - 1s 28ms/step - loss: 3.7202 - accuracy: 0.1109\n",
            "Epoch 34/150\n",
            "48/48 [==============================] - 1s 28ms/step - loss: 3.6991 - accuracy: 0.1088\n",
            "Epoch 35/150\n",
            "48/48 [==============================] - 1s 28ms/step - loss: 3.6712 - accuracy: 0.1192\n",
            "Epoch 36/150\n",
            "48/48 [==============================] - 1s 27ms/step - loss: 3.6047 - accuracy: 0.1213\n",
            "Epoch 37/150\n",
            "48/48 [==============================] - 1s 28ms/step - loss: 3.6069 - accuracy: 0.1088\n",
            "Epoch 38/150\n",
            "48/48 [==============================] - 1s 28ms/step - loss: 3.5529 - accuracy: 0.1255\n",
            "Epoch 39/150\n",
            "48/48 [==============================] - 1s 28ms/step - loss: 3.5036 - accuracy: 0.1172\n",
            "Epoch 40/150\n",
            "48/48 [==============================] - 2s 40ms/step - loss: 3.4970 - accuracy: 0.1255\n",
            "Epoch 41/150\n",
            "48/48 [==============================] - 2s 37ms/step - loss: 3.4099 - accuracy: 0.1297\n",
            "Epoch 42/150\n",
            "48/48 [==============================] - 1s 28ms/step - loss: 3.3609 - accuracy: 0.1444\n",
            "Epoch 43/150\n",
            "48/48 [==============================] - 1s 27ms/step - loss: 3.3469 - accuracy: 0.1297\n",
            "Epoch 44/150\n",
            "48/48 [==============================] - 1s 27ms/step - loss: 3.2935 - accuracy: 0.1381\n",
            "Epoch 45/150\n",
            "48/48 [==============================] - 1s 28ms/step - loss: 3.2711 - accuracy: 0.1485\n",
            "Epoch 46/150\n",
            "48/48 [==============================] - 1s 27ms/step - loss: 3.2244 - accuracy: 0.1402\n",
            "Epoch 47/150\n",
            "48/48 [==============================] - 1s 28ms/step - loss: 3.1755 - accuracy: 0.1485\n",
            "Epoch 48/150\n",
            "48/48 [==============================] - 1s 28ms/step - loss: 3.1360 - accuracy: 0.1632\n",
            "Epoch 49/150\n",
            "48/48 [==============================] - 2s 39ms/step - loss: 3.1913 - accuracy: 0.1757\n",
            "Epoch 50/150\n",
            "48/48 [==============================] - 2s 38ms/step - loss: 3.1620 - accuracy: 0.1527\n",
            "Epoch 51/150\n",
            "48/48 [==============================] - 1s 28ms/step - loss: 3.0767 - accuracy: 0.1611\n",
            "Epoch 52/150\n",
            "48/48 [==============================] - 1s 28ms/step - loss: 3.0366 - accuracy: 0.1778\n",
            "Epoch 53/150\n",
            "48/48 [==============================] - 1s 27ms/step - loss: 3.0067 - accuracy: 0.1674\n",
            "Epoch 54/150\n",
            "48/48 [==============================] - 1s 28ms/step - loss: 3.0011 - accuracy: 0.1569\n",
            "Epoch 55/150\n",
            "48/48 [==============================] - 1s 28ms/step - loss: 2.9873 - accuracy: 0.1695\n",
            "Epoch 56/150\n",
            "48/48 [==============================] - 1s 28ms/step - loss: 3.0033 - accuracy: 0.1736\n",
            "Epoch 57/150\n",
            "48/48 [==============================] - 1s 28ms/step - loss: 2.9016 - accuracy: 0.1715\n",
            "Epoch 58/150\n",
            "48/48 [==============================] - 2s 40ms/step - loss: 2.8897 - accuracy: 0.1862\n",
            "Epoch 59/150\n",
            "48/48 [==============================] - 2s 37ms/step - loss: 2.8796 - accuracy: 0.2197\n",
            "Epoch 60/150\n",
            "48/48 [==============================] - 1s 28ms/step - loss: 3.0783 - accuracy: 0.1590\n",
            "Epoch 61/150\n",
            "48/48 [==============================] - 1s 28ms/step - loss: 2.8636 - accuracy: 0.2029\n",
            "Epoch 62/150\n",
            "48/48 [==============================] - 1s 29ms/step - loss: 2.7771 - accuracy: 0.2008\n",
            "Epoch 63/150\n",
            "48/48 [==============================] - 1s 27ms/step - loss: 2.7136 - accuracy: 0.2197\n",
            "Epoch 64/150\n",
            "48/48 [==============================] - 1s 28ms/step - loss: 2.6704 - accuracy: 0.2448\n",
            "Epoch 65/150\n",
            "48/48 [==============================] - 1s 28ms/step - loss: 2.6560 - accuracy: 0.2322\n",
            "Epoch 66/150\n",
            "48/48 [==============================] - 1s 28ms/step - loss: 2.6059 - accuracy: 0.2448\n",
            "Epoch 67/150\n",
            "48/48 [==============================] - 2s 41ms/step - loss: 2.5687 - accuracy: 0.2636\n",
            "Epoch 68/150\n",
            "48/48 [==============================] - 2s 36ms/step - loss: 2.6219 - accuracy: 0.2469\n",
            "Epoch 69/150\n",
            "48/48 [==============================] - 1s 29ms/step - loss: 2.6180 - accuracy: 0.2552\n",
            "Epoch 70/150\n",
            "48/48 [==============================] - 1s 29ms/step - loss: 2.5577 - accuracy: 0.2657\n",
            "Epoch 71/150\n",
            "48/48 [==============================] - 1s 29ms/step - loss: 2.4927 - accuracy: 0.2929\n",
            "Epoch 72/150\n",
            "48/48 [==============================] - 1s 28ms/step - loss: 2.5709 - accuracy: 0.2469\n",
            "Epoch 73/150\n",
            "48/48 [==============================] - 1s 28ms/step - loss: 2.5498 - accuracy: 0.2531\n",
            "Epoch 74/150\n",
            "48/48 [==============================] - 1s 28ms/step - loss: 2.4361 - accuracy: 0.3054\n",
            "Epoch 75/150\n",
            "48/48 [==============================] - 1s 30ms/step - loss: 2.4269 - accuracy: 0.3222\n",
            "Epoch 76/150\n",
            "48/48 [==============================] - 2s 41ms/step - loss: 2.3142 - accuracy: 0.3305\n",
            "Epoch 77/150\n",
            "48/48 [==============================] - 2s 33ms/step - loss: 2.2725 - accuracy: 0.3410\n",
            "Epoch 78/150\n",
            "48/48 [==============================] - 1s 29ms/step - loss: 2.3182 - accuracy: 0.3222\n",
            "Epoch 79/150\n",
            "48/48 [==============================] - 1s 28ms/step - loss: 2.2505 - accuracy: 0.3515\n",
            "Epoch 80/150\n",
            "48/48 [==============================] - 1s 28ms/step - loss: 2.2268 - accuracy: 0.3556\n",
            "Epoch 81/150\n",
            "48/48 [==============================] - 1s 28ms/step - loss: 2.1357 - accuracy: 0.3724\n",
            "Epoch 82/150\n",
            "48/48 [==============================] - 1s 28ms/step - loss: 2.1324 - accuracy: 0.3849\n",
            "Epoch 83/150\n",
            "48/48 [==============================] - 1s 27ms/step - loss: 2.0960 - accuracy: 0.3870\n",
            "Epoch 84/150\n",
            "48/48 [==============================] - 1s 30ms/step - loss: 2.0490 - accuracy: 0.3870\n",
            "Epoch 85/150\n",
            "48/48 [==============================] - 2s 43ms/step - loss: 2.0043 - accuracy: 0.3891\n",
            "Epoch 86/150\n",
            "48/48 [==============================] - 2s 33ms/step - loss: 2.0002 - accuracy: 0.4017\n",
            "Epoch 87/150\n",
            "48/48 [==============================] - 1s 28ms/step - loss: 2.0369 - accuracy: 0.4100\n",
            "Epoch 88/150\n",
            "48/48 [==============================] - 1s 28ms/step - loss: 2.0227 - accuracy: 0.3996\n",
            "Epoch 89/150\n",
            "48/48 [==============================] - 1s 29ms/step - loss: 1.9877 - accuracy: 0.4100\n",
            "Epoch 90/150\n",
            "48/48 [==============================] - 1s 28ms/step - loss: 1.8881 - accuracy: 0.4289\n",
            "Epoch 91/150\n",
            "48/48 [==============================] - 1s 28ms/step - loss: 1.8882 - accuracy: 0.4351\n",
            "Epoch 92/150\n",
            "48/48 [==============================] - 1s 29ms/step - loss: 1.8944 - accuracy: 0.4435\n",
            "Epoch 93/150\n",
            "48/48 [==============================] - 2s 34ms/step - loss: 1.9175 - accuracy: 0.4372\n",
            "Epoch 94/150\n",
            "48/48 [==============================] - 2s 44ms/step - loss: 1.8930 - accuracy: 0.4686\n",
            "Epoch 95/150\n",
            "48/48 [==============================] - 1s 28ms/step - loss: 1.7624 - accuracy: 0.4770\n",
            "Epoch 96/150\n",
            "48/48 [==============================] - 1s 28ms/step - loss: 1.6890 - accuracy: 0.5314\n",
            "Epoch 97/150\n",
            "48/48 [==============================] - 1s 29ms/step - loss: 1.6706 - accuracy: 0.5167\n",
            "Epoch 98/150\n",
            "48/48 [==============================] - 1s 28ms/step - loss: 1.7119 - accuracy: 0.4979\n",
            "Epoch 99/150\n",
            "48/48 [==============================] - 1s 29ms/step - loss: 1.6697 - accuracy: 0.5272\n",
            "Epoch 100/150\n",
            "48/48 [==============================] - 1s 28ms/step - loss: 1.6159 - accuracy: 0.5397\n",
            "Epoch 101/150\n",
            "48/48 [==============================] - 1s 29ms/step - loss: 1.5829 - accuracy: 0.5356\n",
            "Epoch 102/150\n",
            "48/48 [==============================] - 2s 39ms/step - loss: 1.5350 - accuracy: 0.5711\n",
            "Epoch 103/150\n",
            "48/48 [==============================] - 2s 39ms/step - loss: 1.5382 - accuracy: 0.5649\n",
            "Epoch 104/150\n",
            "48/48 [==============================] - 1s 29ms/step - loss: 1.5694 - accuracy: 0.5377\n",
            "Epoch 105/150\n",
            "48/48 [==============================] - 1s 28ms/step - loss: 1.5274 - accuracy: 0.5732\n",
            "Epoch 106/150\n",
            "48/48 [==============================] - 1s 28ms/step - loss: 1.4672 - accuracy: 0.5837\n",
            "Epoch 107/150\n",
            "48/48 [==============================] - 1s 28ms/step - loss: 1.4378 - accuracy: 0.6067\n",
            "Epoch 108/150\n",
            "48/48 [==============================] - 1s 29ms/step - loss: 1.4441 - accuracy: 0.5900\n",
            "Epoch 109/150\n",
            "48/48 [==============================] - 1s 29ms/step - loss: 1.3435 - accuracy: 0.6151\n",
            "Epoch 110/150\n",
            "48/48 [==============================] - 1s 28ms/step - loss: 1.3572 - accuracy: 0.6318\n",
            "Epoch 111/150\n",
            "48/48 [==============================] - 2s 42ms/step - loss: 1.3239 - accuracy: 0.6444\n",
            "Epoch 112/150\n",
            "48/48 [==============================] - 2s 37ms/step - loss: 1.4190 - accuracy: 0.5732\n",
            "Epoch 113/150\n",
            "48/48 [==============================] - 1s 29ms/step - loss: 1.3166 - accuracy: 0.6255\n",
            "Epoch 114/150\n",
            "48/48 [==============================] - 1s 29ms/step - loss: 1.3849 - accuracy: 0.6088\n",
            "Epoch 115/150\n",
            "48/48 [==============================] - 1s 30ms/step - loss: 1.2595 - accuracy: 0.6339\n",
            "Epoch 116/150\n",
            "48/48 [==============================] - 1s 28ms/step - loss: 1.2991 - accuracy: 0.6485\n",
            "Epoch 117/150\n",
            "48/48 [==============================] - 1s 29ms/step - loss: 1.1955 - accuracy: 0.6736\n",
            "Epoch 118/150\n",
            "48/48 [==============================] - 1s 28ms/step - loss: 1.1530 - accuracy: 0.6925\n",
            "Epoch 119/150\n",
            "48/48 [==============================] - 1s 31ms/step - loss: 1.1752 - accuracy: 0.6778\n",
            "Epoch 120/150\n",
            "48/48 [==============================] - 2s 43ms/step - loss: 1.2202 - accuracy: 0.6276\n",
            "Epoch 121/150\n",
            "48/48 [==============================] - 2s 32ms/step - loss: 1.2005 - accuracy: 0.6611\n",
            "Epoch 122/150\n",
            "48/48 [==============================] - 1s 29ms/step - loss: 1.1499 - accuracy: 0.6799\n",
            "Epoch 123/150\n",
            "48/48 [==============================] - 1s 28ms/step - loss: 1.1900 - accuracy: 0.6569\n",
            "Epoch 124/150\n",
            "48/48 [==============================] - 1s 28ms/step - loss: 1.3013 - accuracy: 0.6402\n",
            "Epoch 125/150\n",
            "48/48 [==============================] - 1s 28ms/step - loss: 1.2106 - accuracy: 0.6904\n",
            "Epoch 126/150\n",
            "48/48 [==============================] - 1s 28ms/step - loss: 1.2334 - accuracy: 0.6653\n",
            "Epoch 127/150\n",
            "48/48 [==============================] - 1s 29ms/step - loss: 1.0664 - accuracy: 0.7134\n",
            "Epoch 128/150\n",
            "48/48 [==============================] - 2s 34ms/step - loss: 0.9794 - accuracy: 0.7448\n",
            "Epoch 129/150\n",
            "48/48 [==============================] - 2s 43ms/step - loss: 1.0868 - accuracy: 0.7218\n",
            "Epoch 130/150\n",
            "48/48 [==============================] - 1s 30ms/step - loss: 1.0330 - accuracy: 0.7322\n",
            "Epoch 131/150\n",
            "48/48 [==============================] - 1s 29ms/step - loss: 0.8980 - accuracy: 0.7782\n",
            "Epoch 132/150\n",
            "48/48 [==============================] - 1s 28ms/step - loss: 0.8787 - accuracy: 0.7594\n",
            "Epoch 133/150\n",
            "48/48 [==============================] - 1s 28ms/step - loss: 0.8416 - accuracy: 0.7950\n",
            "Epoch 134/150\n",
            "48/48 [==============================] - 1s 28ms/step - loss: 0.8060 - accuracy: 0.7971\n",
            "Epoch 135/150\n",
            "48/48 [==============================] - 1s 28ms/step - loss: 0.7938 - accuracy: 0.8054\n",
            "Epoch 136/150\n",
            "48/48 [==============================] - 1s 28ms/step - loss: 0.7821 - accuracy: 0.8033\n",
            "Epoch 137/150\n",
            "48/48 [==============================] - 2s 36ms/step - loss: 0.8356 - accuracy: 0.7741\n",
            "Epoch 138/150\n",
            "48/48 [==============================] - 2s 41ms/step - loss: 0.7734 - accuracy: 0.8033\n",
            "Epoch 139/150\n",
            "48/48 [==============================] - 1s 29ms/step - loss: 0.7483 - accuracy: 0.8075\n",
            "Epoch 140/150\n",
            "48/48 [==============================] - 1s 28ms/step - loss: 0.7070 - accuracy: 0.8452\n",
            "Epoch 141/150\n",
            "48/48 [==============================] - 1s 28ms/step - loss: 0.7259 - accuracy: 0.8033\n",
            "Epoch 142/150\n",
            "48/48 [==============================] - 1s 28ms/step - loss: 0.7278 - accuracy: 0.7992\n",
            "Epoch 143/150\n",
            "48/48 [==============================] - 1s 28ms/step - loss: 0.7038 - accuracy: 0.8347\n",
            "Epoch 144/150\n",
            "48/48 [==============================] - 1s 28ms/step - loss: 0.6754 - accuracy: 0.8431\n",
            "Epoch 145/150\n",
            "48/48 [==============================] - 1s 29ms/step - loss: 0.6628 - accuracy: 0.8285\n",
            "Epoch 146/150\n",
            "48/48 [==============================] - 2s 40ms/step - loss: 0.6600 - accuracy: 0.8264\n",
            "Epoch 147/150\n",
            "48/48 [==============================] - 2s 38ms/step - loss: 0.6273 - accuracy: 0.8577\n",
            "Epoch 148/150\n",
            "48/48 [==============================] - 1s 28ms/step - loss: 0.5995 - accuracy: 0.8640\n",
            "Epoch 149/150\n",
            "48/48 [==============================] - 1s 29ms/step - loss: 0.7639 - accuracy: 0.8054\n",
            "Epoch 150/150\n",
            "48/48 [==============================] - 1s 29ms/step - loss: 0.7061 - accuracy: 0.7929\n"
          ]
        },
        {
          "output_type": "execute_result",
          "data": {
            "text/plain": [
              "<keras.callbacks.History at 0x7f72739affd0>"
            ]
          },
          "metadata": {},
          "execution_count": 182
        }
      ]
    },
    {
      "cell_type": "code",
      "source": [
        "input_text = text_seq[0]\n",
        "input_text = ' '.join(input_text)\n",
        "input_text"
      ],
      "metadata": {
        "colab": {
          "base_uri": "https://localhost:8080/",
          "height": 53
        },
        "id": "Kod13EKK3Iny",
        "outputId": "5f8a38fd-7452-483a-aeaa-ef546df50a9a"
      },
      "execution_count": 183,
      "outputs": [
        {
          "output_type": "execute_result",
          "data": {
            "text/plain": [
              "'images carry valuable information and these information can be hidden in images in our day today life gigabytes of new images are generated and stored building'"
            ],
            "application/vnd.google.colaboratory.intrinsic+json": {
              "type": "string"
            }
          },
          "metadata": {},
          "execution_count": 183
        }
      ]
    },
    {
      "cell_type": "code",
      "source": [
        "# encoded_text = tokenizer.texts_to_sequences([input_text])\n",
        "# encoded_text"
      ],
      "metadata": {
        "id": "dR8EpSxB8JWB"
      },
      "execution_count": 184,
      "outputs": []
    },
    {
      "cell_type": "code",
      "source": [
        "# from keras.utils import pad_sequences\n",
        "from tensorflow.keras.utils import pad_sequences\n",
        "output_text = []\n",
        "for i in range(10):\n",
        "  encoded_text = tokenizer.texts_to_sequences([input_text])[0]\n",
        "  print(encoded_text)\n",
        "  pad = pad_sequences([encoded_text],maxlen = 25,truncating = 'pre')\n",
        "  pred= model.predict(pad)\n",
        "  pred_ind = np.argmax(pred,axis = 1)[0]\n",
        "  print(pred_ind)\n",
        "  pred_word = tokenizer.index_word[pred_ind]\n",
        "  input_text = input_text + ' ' + pred_word\n",
        "  # input_text = input_text[i+1:26]\n",
        "  output_text.append(pred_word)\n",
        "output_text"
      ],
      "metadata": {
        "id": "zonZKXFNQVsP",
        "colab": {
          "base_uri": "https://localhost:8080/"
        },
        "outputId": "c8a44983-0889-4e3e-faac-424e37ddcdf2"
      },
      "execution_count": 185,
      "outputs": [
        {
          "output_type": "stream",
          "name": "stdout",
          "text": [
            "[5, 212, 211, 208, 9, 74, 208, 39, 76, 75, 3, 5, 3, 207, 206, 205, 203, 202, 4, 73, 5, 6, 72, 9, 71, 78]\n",
            "1/1 [==============================] - 1s 790ms/step\n",
            "13\n",
            "[5, 212, 211, 208, 9, 74, 208, 39, 76, 75, 3, 5, 3, 207, 206, 205, 203, 202, 4, 73, 5, 6, 72, 9, 71, 78, 13]\n",
            "1/1 [==============================] - 0s 34ms/step\n",
            "40\n",
            "[5, 212, 211, 208, 9, 74, 208, 39, 76, 75, 3, 5, 3, 207, 206, 205, 203, 202, 4, 73, 5, 6, 72, 9, 71, 78, 13, 40]\n",
            "1/1 [==============================] - 0s 43ms/step\n",
            "9\n",
            "[5, 212, 211, 208, 9, 74, 208, 39, 76, 75, 3, 5, 3, 207, 206, 205, 203, 202, 4, 73, 5, 6, 72, 9, 71, 78, 13, 40, 9]\n",
            "1/1 [==============================] - 0s 41ms/step\n",
            "79\n",
            "[5, 212, 211, 208, 9, 74, 208, 39, 76, 75, 3, 5, 3, 207, 206, 205, 203, 202, 4, 73, 5, 6, 72, 9, 71, 78, 13, 40, 9, 79]\n",
            "1/1 [==============================] - 0s 38ms/step\n",
            "1\n",
            "[5, 212, 211, 208, 9, 74, 208, 39, 76, 75, 3, 5, 3, 207, 206, 205, 203, 202, 4, 73, 5, 6, 72, 9, 71, 78, 13, 40, 9, 79, 1]\n",
            "1/1 [==============================] - 0s 54ms/step\n",
            "17\n",
            "[5, 212, 211, 208, 9, 74, 208, 39, 76, 75, 3, 5, 3, 207, 206, 205, 203, 202, 4, 73, 5, 6, 72, 9, 71, 78, 13, 40, 9, 79, 1, 17]\n",
            "1/1 [==============================] - 0s 42ms/step\n",
            "80\n",
            "[5, 212, 211, 208, 9, 74, 208, 39, 76, 75, 3, 5, 3, 207, 206, 205, 203, 202, 4, 73, 5, 6, 72, 9, 71, 78, 13, 40, 9, 79, 1, 17, 80]\n",
            "1/1 [==============================] - 0s 43ms/step\n",
            "4\n",
            "[5, 212, 211, 208, 9, 74, 208, 39, 76, 75, 3, 5, 3, 207, 206, 205, 203, 202, 4, 73, 5, 6, 72, 9, 71, 78, 13, 40, 9, 79, 1, 17, 80, 4]\n",
            "1/1 [==============================] - 0s 40ms/step\n",
            "14\n",
            "[5, 212, 211, 208, 9, 74, 208, 39, 76, 75, 3, 5, 3, 207, 206, 205, 203, 202, 4, 73, 5, 6, 72, 9, 71, 78, 13, 40, 9, 79, 1, 17, 80, 4, 14]\n",
            "1/1 [==============================] - 0s 42ms/step\n",
            "39\n"
          ]
        },
        {
          "output_type": "execute_result",
          "data": {
            "text/plain": [
              "['a',\n",
              " 'huge',\n",
              " 'and',\n",
              " 'unstructured',\n",
              " 'image',\n",
              " 'database',\n",
              " 'much',\n",
              " 'of',\n",
              " 'which',\n",
              " 'can']"
            ]
          },
          "metadata": {},
          "execution_count": 185
        }
      ]
    },
    {
      "cell_type": "code",
      "source": [],
      "metadata": {
        "id": "Bwp_QTzt5RWn"
      },
      "execution_count": 185,
      "outputs": []
    }
  ]
}